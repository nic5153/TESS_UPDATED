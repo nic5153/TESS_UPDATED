{
 "cells": [
  {
   "cell_type": "code",
   "execution_count": 1,
   "metadata": {},
   "outputs": [
    {
     "name": "stdout",
     "output_type": "stream",
     "text": [
      "Process completed successfully.\n"
     ]
    }
   ],
   "source": [
    "#sector66\n",
    "import os\n",
    "import shutil\n",
    "\n",
    "\n",
    "png_folder = r'C:\\Users\\nic51\\Code_Repos\\Tess\\Data\\Extracted_Tarballs\\PNG_FILES'\n",
    "txt_folder = r'C:\\Users\\nic51\\Code_Repos\\Tess\\Data\\Extracted_Tarballs\\TXT_Files'\n",
    "destination_folder = r'C:\\Users\\nic51\\Code_Repos\\Tess\\Data\\Interesting_Curves\\sector66'\n",
    "\n",
    "\n",
    "naming_pattern = '20'\n",
    "\n",
    "\n",
    "interesting_curves = ['2023jub']\n",
    "\n",
    "\n",
    "if not os.path.exists(destination_folder):\n",
    "    os.makedirs(destination_folder)\n",
    "\n",
    "\n",
    "for curve_id in interesting_curves:\n",
    "    png_file = os.path.join(png_folder, curve_id + '.png')\n",
    "    txt_file = os.path.join(txt_folder, curve_id + '.txt')\n",
    "    \n",
    "    if os.path.exists(png_file) and os.path.exists(txt_file):\n",
    "        shutil.copy(png_file, destination_folder)\n",
    "        shutil.copy(txt_file, destination_folder)\n",
    "\n",
    "print(\"Process completed successfully.\")\n",
    "\n"
   ]
  },
  {
   "cell_type": "code",
   "execution_count": 2,
   "metadata": {},
   "outputs": [
    {
     "name": "stdout",
     "output_type": "stream",
     "text": [
      "Process completed successfully.\n"
     ]
    }
   ],
   "source": [
    "#sector65\n",
    "import os\n",
    "import shutil\n",
    "\n",
    "\n",
    "png_folder = r'C:\\Users\\nic51\\Code_Repos\\Tess\\Data\\Extracted_Tarballs\\PNG_FILES'\n",
    "txt_folder = r'C:\\Users\\nic51\\Code_Repos\\Tess\\Data\\Extracted_Tarballs\\TXT_Files'\n",
    "destination_folder = r'C:\\Users\\nic51\\Code_Repos\\Tess\\Data\\Interesting_Curves\\sector65'\n",
    "\n",
    "\n",
    "naming_pattern = '20'\n",
    "\n",
    "\n",
    "interesting_curves = ['2023ixg', '2023iwl']\n",
    "\n",
    "\n",
    "if not os.path.exists(destination_folder):\n",
    "    os.makedirs(destination_folder)\n",
    "\n",
    "\n",
    "for curve_id in interesting_curves:\n",
    "    png_file = os.path.join(png_folder, curve_id + '.png')\n",
    "    txt_file = os.path.join(txt_folder, curve_id + '.txt')\n",
    "    \n",
    "    if os.path.exists(png_file) and os.path.exists(txt_file):\n",
    "        shutil.copy(png_file, destination_folder)\n",
    "        shutil.copy(txt_file, destination_folder)\n",
    "\n",
    "print(\"Process completed successfully.\")"
   ]
  },
  {
   "cell_type": "code",
   "execution_count": 1,
   "metadata": {},
   "outputs": [
    {
     "name": "stdout",
     "output_type": "stream",
     "text": [
      "Process completed successfully.\n"
     ]
    }
   ],
   "source": [
    "#sector64\n",
    "import os\n",
    "import shutil\n",
    "\n",
    "\n",
    "png_folder = r'C:\\Users\\nic51\\Code_Repos\\Tess\\Data\\Extracted_Tarballs\\PNG_FILES'\n",
    "txt_folder = r'C:\\Users\\nic51\\Code_Repos\\Tess\\Data\\Extracted_Tarballs\\TXT_Files'\n",
    "destination_folder = r'C:\\Users\\nic51\\Code_Repos\\Tess\\Data\\Interesting_Curves\\sector64'\n",
    "\n",
    "\n",
    "naming_pattern = '20'\n",
    "\n",
    "\n",
    "interesting_curves = ['2023gdu','2023hnd','2023iua','2023htj','2023hqh','2023hts','2023jsy','2023hng','2023gwh','2023htk','2023fpc','2023hdy','2023hua','2023fpe','2023hlr']\n",
    "\n",
    "\n",
    "if not os.path.exists(destination_folder):\n",
    "    os.makedirs(destination_folder)\n",
    "\n",
    "\n",
    "for curve_id in interesting_curves:\n",
    "    png_file = os.path.join(png_folder, curve_id + '.png')\n",
    "    txt_file = os.path.join(txt_folder, curve_id + '.txt')\n",
    "    \n",
    "    if os.path.exists(png_file) and os.path.exists(txt_file):\n",
    "        shutil.copy(png_file, destination_folder)\n",
    "        shutil.copy(txt_file, destination_folder)\n",
    "\n",
    "print(\"Process completed successfully.\")"
   ]
  },
  {
   "cell_type": "code",
   "execution_count": 8,
   "metadata": {},
   "outputs": [
    {
     "name": "stdout",
     "output_type": "stream",
     "text": [
      "Process completed successfully.\n"
     ]
    }
   ],
   "source": [
    "#sector63\n",
    "import os\n",
    "import shutil\n",
    "\n",
    "\n",
    "png_folder = r'C:\\Users\\nic51\\Code_Repos\\Tess\\Data\\Extracted_Tarballs\\PNG_FILES'\n",
    "txt_folder = r'C:\\Users\\nic51\\Code_Repos\\Tess\\Data\\Extracted_Tarballs\\TXT_Files'\n",
    "destination_folder = r'C:\\Users\\nic51\\Code_Repos\\Tess\\Data\\Interesting_Curves\\sector63'\n",
    "\n",
    "\n",
    "naming_pattern = '20'\n",
    "\n",
    "\n",
    "interesting_curves = ['2023egc','2023egu','2023gos','2023dfx','2023elj','2023edn','2023gzz','2023duc','2023fpo','2023dqd','2023gsp','2023dvq','2023cyf','2023egh','2023edo','2023egm','2023edy','2023dwt']\n",
    "\n",
    "\n",
    "if not os.path.exists(destination_folder):\n",
    "    os.makedirs(destination_folder)\n",
    "\n",
    "\n",
    "for curve_id in interesting_curves:\n",
    "    png_file = os.path.join(png_folder, curve_id + '.png')\n",
    "    txt_file = os.path.join(txt_folder, curve_id + '.txt')\n",
    "    \n",
    "    if os.path.exists(png_file) and os.path.exists(txt_file):\n",
    "        shutil.copy(png_file, destination_folder)\n",
    "        shutil.copy(txt_file, destination_folder)\n",
    "\n",
    "print(\"Process completed successfully.\")"
   ]
  },
  {
   "cell_type": "code",
   "execution_count": 3,
   "metadata": {},
   "outputs": [
    {
     "name": "stdout",
     "output_type": "stream",
     "text": [
      "Process completed successfully.\n"
     ]
    }
   ],
   "source": [
    "#sector01(revisit)\n",
    "import os\n",
    "import shutil\n",
    "\n",
    "\n",
    "png_folder = r'C:\\Users\\nic51\\Code_Repos\\Tess\\Data\\Extracted_Tarballs\\PNG_FILES'\n",
    "txt_folder = r'C:\\Users\\nic51\\Code_Repos\\Tess\\Data\\Extracted_Tarballs\\TXT_Files'\n",
    "destination_folder = r'C:\\Users\\nic51\\Code_Repos\\Tess\\Data\\Interesting_Curves\\sector01'\n",
    "\n",
    "\n",
    "naming_pattern = '20'\n",
    "\n",
    "\n",
    "interesting_curves = ['2018eny']\n",
    "\n",
    "\n",
    "if not os.path.exists(destination_folder):\n",
    "    os.makedirs(destination_folder)\n",
    "\n",
    "\n",
    "for curve_id in interesting_curves:\n",
    "    png_file = os.path.join(png_folder, curve_id + '.png')\n",
    "    txt_file = os.path.join(txt_folder, curve_id + '.txt')\n",
    "    \n",
    "    if os.path.exists(png_file) and os.path.exists(txt_file):\n",
    "        shutil.copy(png_file, destination_folder)\n",
    "        shutil.copy(txt_file, destination_folder)\n",
    "\n",
    "print(\"Process completed successfully.\")"
   ]
  },
  {
   "cell_type": "code",
   "execution_count": 4,
   "metadata": {},
   "outputs": [
    {
     "name": "stdout",
     "output_type": "stream",
     "text": [
      "Process completed successfully.\n"
     ]
    }
   ],
   "source": [
    "#sector05(revisit)\n",
    "import os\n",
    "import shutil\n",
    "\n",
    "\n",
    "png_folder = r'C:\\Users\\nic51\\Code_Repos\\Tess\\Data\\Extracted_Tarballs\\PNG_FILES'\n",
    "txt_folder = r'C:\\Users\\nic51\\Code_Repos\\Tess\\Data\\Extracted_Tarballs\\TXT_Files'\n",
    "destination_folder = r'C:\\Users\\nic51\\Code_Repos\\Tess\\Data\\Interesting_Curves\\sector05'\n",
    "\n",
    "\n",
    "naming_pattern = '20'\n",
    "\n",
    "\n",
    "interesting_curves = ['2018kbi','2018jms','2018jgq']\n",
    "\n",
    "\n",
    "if not os.path.exists(destination_folder):\n",
    "    os.makedirs(destination_folder)\n",
    "\n",
    "\n",
    "for curve_id in interesting_curves:\n",
    "    png_file = os.path.join(png_folder, curve_id + '.png')\n",
    "    txt_file = os.path.join(txt_folder, curve_id + '.txt')\n",
    "    \n",
    "    if os.path.exists(png_file) and os.path.exists(txt_file):\n",
    "        shutil.copy(png_file, destination_folder)\n",
    "        shutil.copy(txt_file, destination_folder)\n",
    "\n",
    "print(\"Process completed successfully.\")"
   ]
  },
  {
   "cell_type": "code",
   "execution_count": 5,
   "metadata": {},
   "outputs": [
    {
     "name": "stdout",
     "output_type": "stream",
     "text": [
      "Process completed successfully.\n"
     ]
    }
   ],
   "source": [
    "#sector06(revisit)\n",
    "import os\n",
    "import shutil\n",
    "\n",
    "\n",
    "png_folder = r'C:\\Users\\nic51\\Code_Repos\\Tess\\Data\\Extracted_Tarballs\\PNG_FILES'\n",
    "txt_folder = r'C:\\Users\\nic51\\Code_Repos\\Tess\\Data\\Extracted_Tarballs\\TXT_Files'\n",
    "destination_folder = r'C:\\Users\\nic51\\Code_Repos\\Tess\\Data\\Interesting_Curves\\sector06'\n",
    "\n",
    "\n",
    "naming_pattern = '20'\n",
    "\n",
    "\n",
    "interesting_curves = ['2018lad','2019iy']\n",
    "\n",
    "\n",
    "if not os.path.exists(destination_folder):\n",
    "    os.makedirs(destination_folder)\n",
    "\n",
    "\n",
    "for curve_id in interesting_curves:\n",
    "    png_file = os.path.join(png_folder, curve_id + '.png')\n",
    "    txt_file = os.path.join(txt_folder, curve_id + '.txt')\n",
    "    \n",
    "    if os.path.exists(png_file) and os.path.exists(txt_file):\n",
    "        shutil.copy(png_file, destination_folder)\n",
    "        shutil.copy(txt_file, destination_folder)\n",
    "\n",
    "print(\"Process completed successfully.\")"
   ]
  },
  {
   "cell_type": "code",
   "execution_count": 6,
   "metadata": {},
   "outputs": [
    {
     "name": "stdout",
     "output_type": "stream",
     "text": [
      "Process completed successfully.\n"
     ]
    }
   ],
   "source": [
    "#sector07(revisit)\n",
    "import os\n",
    "import shutil\n",
    "\n",
    "\n",
    "png_folder = r'C:\\Users\\nic51\\Code_Repos\\Tess\\Data\\Extracted_Tarballs\\PNG_FILES'\n",
    "txt_folder = r'C:\\Users\\nic51\\Code_Repos\\Tess\\Data\\Extracted_Tarballs\\TXT_Files'\n",
    "destination_folder = r'C:\\Users\\nic51\\Code_Repos\\Tess\\Data\\Interesting_Curves\\sector07'\n",
    "\n",
    "\n",
    "naming_pattern = '20'\n",
    "\n",
    "\n",
    "interesting_curves = ['2019ahk','2019aqu']\n",
    "\n",
    "\n",
    "if not os.path.exists(destination_folder):\n",
    "    os.makedirs(destination_folder)\n",
    "\n",
    "\n",
    "for curve_id in interesting_curves:\n",
    "    png_file = os.path.join(png_folder, curve_id + '.png')\n",
    "    txt_file = os.path.join(txt_folder, curve_id + '.txt')\n",
    "    \n",
    "    if os.path.exists(png_file) and os.path.exists(txt_file):\n",
    "        shutil.copy(png_file, destination_folder)\n",
    "        shutil.copy(txt_file, destination_folder)\n",
    "\n",
    "print(\"Process completed successfully.\")"
   ]
  },
  {
   "cell_type": "code",
   "execution_count": 7,
   "metadata": {},
   "outputs": [
    {
     "name": "stdout",
     "output_type": "stream",
     "text": [
      "Process completed successfully.\n"
     ]
    }
   ],
   "source": [
    "#sector10(revisit)\n",
    "import os\n",
    "import shutil\n",
    "\n",
    "\n",
    "png_folder = r'C:\\Users\\nic51\\Code_Repos\\Tess\\Data\\Extracted_Tarballs\\PNG_FILES'\n",
    "txt_folder = r'C:\\Users\\nic51\\Code_Repos\\Tess\\Data\\Extracted_Tarballs\\TXT_Files'\n",
    "destination_folder = r'C:\\Users\\nic51\\Code_Repos\\Tess\\Data\\Interesting_Curves\\sector10'\n",
    "\n",
    "\n",
    "naming_pattern = '20'\n",
    "\n",
    "\n",
    "interesting_curves = ['2019cou','2019cot']\n",
    "\n",
    "\n",
    "if not os.path.exists(destination_folder):\n",
    "    os.makedirs(destination_folder)\n",
    "\n",
    "\n",
    "for curve_id in interesting_curves:\n",
    "    png_file = os.path.join(png_folder, curve_id + '.png')\n",
    "    txt_file = os.path.join(txt_folder, curve_id + '.txt')\n",
    "    \n",
    "    if os.path.exists(png_file) and os.path.exists(txt_file):\n",
    "        shutil.copy(png_file, destination_folder)\n",
    "        shutil.copy(txt_file, destination_folder)\n",
    "\n",
    "print(\"Process completed successfully.\")"
   ]
  },
  {
   "cell_type": "code",
   "execution_count": 9,
   "metadata": {},
   "outputs": [
    {
     "name": "stdout",
     "output_type": "stream",
     "text": [
      "Process completed successfully.\n"
     ]
    }
   ],
   "source": [
    "#sector62\n",
    "import os\n",
    "import shutil\n",
    "\n",
    "\n",
    "png_folder = r'C:\\Users\\nic51\\Code_Repos\\Tess\\Data\\Extracted_Tarballs\\PNG_FILES'\n",
    "txt_folder = r'C:\\Users\\nic51\\Code_Repos\\Tess\\Data\\Extracted_Tarballs\\TXT_Files'\n",
    "destination_folder = r'C:\\Users\\nic51\\Code_Repos\\Tess\\Data\\Interesting_Curves\\sector62'\n",
    "\n",
    "\n",
    "naming_pattern = '20'\n",
    "\n",
    "\n",
    "interesting_curves = ['2023eke','2023cwz','2023bzw','2023caa','2023cxd','2023cjm','2023cxg','2023ekc','2023coa','2023csc','2023egk','2023cvk','2023crz']\n",
    "\n",
    "\n",
    "if not os.path.exists(destination_folder):\n",
    "    os.makedirs(destination_folder)\n",
    "\n",
    "\n",
    "for curve_id in interesting_curves:\n",
    "    png_file = os.path.join(png_folder, curve_id + '.png')\n",
    "    txt_file = os.path.join(txt_folder, curve_id + '.txt')\n",
    "    \n",
    "    if os.path.exists(png_file) and os.path.exists(txt_file):\n",
    "        shutil.copy(png_file, destination_folder)\n",
    "        shutil.copy(txt_file, destination_folder)\n",
    "\n",
    "print(\"Process completed successfully.\")"
   ]
  },
  {
   "cell_type": "code",
   "execution_count": 10,
   "metadata": {},
   "outputs": [
    {
     "name": "stdout",
     "output_type": "stream",
     "text": [
      "Process completed successfully.\n"
     ]
    }
   ],
   "source": [
    "#sector61\n",
    "import os\n",
    "import shutil\n",
    "\n",
    "\n",
    "png_folder = r'C:\\Users\\nic51\\Code_Repos\\Tess\\Data\\Extracted_Tarballs\\PNG_FILES'\n",
    "txt_folder = r'C:\\Users\\nic51\\Code_Repos\\Tess\\Data\\Extracted_Tarballs\\TXT_Files'\n",
    "destination_folder = r'C:\\Users\\nic51\\Code_Repos\\Tess\\Data\\Interesting_Curves\\sector61'\n",
    "\n",
    "\n",
    "naming_pattern = '20'\n",
    "\n",
    "\n",
    "interesting_curves = ['2023bwx','2023yp','2023ccg','2023cbn','2023aic','2023aii','2023aoi']\n",
    "\n",
    "\n",
    "if not os.path.exists(destination_folder):\n",
    "    os.makedirs(destination_folder)\n",
    "\n",
    "\n",
    "for curve_id in interesting_curves:\n",
    "    png_file = os.path.join(png_folder, curve_id + '.png')\n",
    "    txt_file = os.path.join(txt_folder, curve_id + '.txt')\n",
    "    \n",
    "    if os.path.exists(png_file) and os.path.exists(txt_file):\n",
    "        shutil.copy(png_file, destination_folder)\n",
    "        shutil.copy(txt_file, destination_folder)\n",
    "\n",
    "print(\"Process completed successfully.\")"
   ]
  },
  {
   "cell_type": "code",
   "execution_count": 1,
   "metadata": {},
   "outputs": [
    {
     "name": "stdout",
     "output_type": "stream",
     "text": [
      "Process completed successfully.\n"
     ]
    }
   ],
   "source": [
    "#sector27\n",
    "import os\n",
    "import shutil\n",
    "\n",
    "\n",
    "png_folder = r'C:\\Users\\nic51\\Code_Repos\\Tess\\Data\\Extracted_Tarballs\\PNG_FILES'\n",
    "txt_folder = r'C:\\Users\\nic51\\Code_Repos\\Tess\\Data\\Extracted_Tarballs\\TXT_Files'\n",
    "destination_folder = r'C:\\Users\\nic51\\Code_Repos\\Tess\\Data\\Interesting_Curves\\sector60'\n",
    "\n",
    "\n",
    "naming_pattern = '20'\n",
    "\n",
    "\n",
    "interesting_curves = ['2020oje','2020mxh','2020qit','2020pkw','2020qir','2020ojk','2020ork']\n",
    "\n",
    "\n",
    "if not os.path.exists(destination_folder):\n",
    "    os.makedirs(destination_folder)\n",
    "\n",
    "\n",
    "for curve_id in interesting_curves:\n",
    "    png_file = os.path.join(png_folder, curve_id + '.png')\n",
    "    txt_file = os.path.join(txt_folder, curve_id + '.txt')\n",
    "    \n",
    "    if os.path.exists(png_file) and os.path.exists(txt_file):\n",
    "        shutil.copy(png_file, destination_folder)\n",
    "        shutil.copy(txt_file, destination_folder)\n",
    "\n",
    "print(\"Process completed successfully.\")"
   ]
  },
  {
   "cell_type": "code",
   "execution_count": 2,
   "metadata": {},
   "outputs": [
    {
     "name": "stdout",
     "output_type": "stream",
     "text": [
      "Process completed successfully.\n"
     ]
    }
   ],
   "source": [
    "#sector26\n",
    "import os\n",
    "import shutil\n",
    "\n",
    "\n",
    "png_folder = r'C:\\Users\\nic51\\Code_Repos\\Tess\\Data\\Extracted_Tarballs\\PNG_FILES'\n",
    "txt_folder = r'C:\\Users\\nic51\\Code_Repos\\Tess\\Data\\Extracted_Tarballs\\TXT_Files'\n",
    "destination_folder = r'C:\\Users\\nic51\\Code_Repos\\Tess\\Data\\Interesting_Curves\\sector26'\n",
    "\n",
    "\n",
    "naming_pattern = '20'\n",
    "\n",
    "\n",
    "interesting_curves = ['2020oxo','2020oap','2020pfw','2020mgb','2020oih','2020omp','2020nww','2020nnd','2020nsf','2020nen','2020nkf','2020oah','2020mqq','2020nbr','2020mot','2020oxh']\n",
    "\n",
    "\n",
    "if not os.path.exists(destination_folder):\n",
    "    os.makedirs(destination_folder)\n",
    "\n",
    "\n",
    "for curve_id in interesting_curves:\n",
    "    png_file = os.path.join(png_folder, curve_id + '.png')\n",
    "    txt_file = os.path.join(txt_folder, curve_id + '.txt')\n",
    "    \n",
    "    if os.path.exists(png_file) and os.path.exists(txt_file):\n",
    "        shutil.copy(png_file, destination_folder)\n",
    "        shutil.copy(txt_file, destination_folder)\n",
    "\n",
    "print(\"Process completed successfully.\")"
   ]
  },
  {
   "cell_type": "code",
   "execution_count": 3,
   "metadata": {},
   "outputs": [
    {
     "name": "stdout",
     "output_type": "stream",
     "text": [
      "Process completed successfully.\n"
     ]
    }
   ],
   "source": [
    "#sector25\n",
    "import os\n",
    "import shutil\n",
    "\n",
    "\n",
    "png_folder = r'C:\\Users\\nic51\\Code_Repos\\Tess\\Data\\Extracted_Tarballs\\PNG_FILES'\n",
    "txt_folder = r'C:\\Users\\nic51\\Code_Repos\\Tess\\Data\\Extracted_Tarballs\\TXT_Files'\n",
    "destination_folder = r'C:\\Users\\nic51\\Code_Repos\\Tess\\Data\\Interesting_Curves\\sector25'\n",
    "\n",
    "\n",
    "naming_pattern = '20'\n",
    "\n",
    "\n",
    "interesting_curves = ['2020liy','2020kur','2020lpz','2020kbu','2020kbo','2020lfw','2020kbp']\n",
    "\n",
    "\n",
    "if not os.path.exists(destination_folder):\n",
    "    os.makedirs(destination_folder)\n",
    "\n",
    "\n",
    "for curve_id in interesting_curves:\n",
    "    png_file = os.path.join(png_folder, curve_id + '.png')\n",
    "    txt_file = os.path.join(txt_folder, curve_id + '.txt')\n",
    "    \n",
    "    if os.path.exists(png_file) and os.path.exists(txt_file):\n",
    "        shutil.copy(png_file, destination_folder)\n",
    "        shutil.copy(txt_file, destination_folder)\n",
    "\n",
    "print(\"Process completed successfully.\")"
   ]
  },
  {
   "cell_type": "code",
   "execution_count": 4,
   "metadata": {},
   "outputs": [
    {
     "name": "stdout",
     "output_type": "stream",
     "text": [
      "Process completed successfully.\n"
     ]
    }
   ],
   "source": [
    "#sector24\n",
    "import os\n",
    "import shutil\n",
    "\n",
    "\n",
    "png_folder = r'C:\\Users\\nic51\\Code_Repos\\Tess\\Data\\Extracted_Tarballs\\PNG_FILES'\n",
    "txt_folder = r'C:\\Users\\nic51\\Code_Repos\\Tess\\Data\\Extracted_Tarballs\\TXT_Files'\n",
    "destination_folder = r'C:\\Users\\nic51\\Code_Repos\\Tess\\Data\\Interesting_Curves\\sector24'\n",
    "\n",
    "\n",
    "naming_pattern = '20'\n",
    "\n",
    "\n",
    "interesting_curves = ['2020jhe','2020ilw','2020jvc','2020ish','2020jvr','2020jkj','2020hlm','2020isi','2020jss','2020jem','2020jsv','2020int']\n",
    "\n",
    "\n",
    "if not os.path.exists(destination_folder):\n",
    "    os.makedirs(destination_folder)\n",
    "\n",
    "\n",
    "for curve_id in interesting_curves:\n",
    "    png_file = os.path.join(png_folder, curve_id + '.png')\n",
    "    txt_file = os.path.join(txt_folder, curve_id + '.txt')\n",
    "    \n",
    "    if os.path.exists(png_file) and os.path.exists(txt_file):\n",
    "        shutil.copy(png_file, destination_folder)\n",
    "        shutil.copy(txt_file, destination_folder)\n",
    "\n",
    "print(\"Process completed successfully.\")"
   ]
  },
  {
   "cell_type": "code",
   "execution_count": 1,
   "metadata": {},
   "outputs": [
    {
     "name": "stdout",
     "output_type": "stream",
     "text": [
      "Process completed successfully.\n"
     ]
    }
   ],
   "source": [
    "#sector23\n",
    "import os\n",
    "import shutil\n",
    "\n",
    "\n",
    "png_folder = r'C:\\Users\\nic51\\Code_Repos\\Tess\\Data\\Extracted_Tarballs\\PNG_FILES'\n",
    "txt_folder = r'C:\\Users\\nic51\\Code_Repos\\Tess\\Data\\Extracted_Tarballs\\TXT_Files'\n",
    "destination_folder = r'C:\\Users\\nic51\\Code_Repos\\Tess\\Data\\Interesting_Curves\\sector23'\n",
    "\n",
    "\n",
    "naming_pattern = '20'\n",
    "\n",
    "\n",
    "interesting_curves = ['2020fuf','2020fzk','2020hfv','2020fjs','2020hlf','2020hrr','2020gzr','2020hgq','2020ghq','2020hhc','2020har','2020gbb','2020fyk','2020ftw','2020hne']\n",
    "\n",
    "\n",
    "if not os.path.exists(destination_folder):\n",
    "    os.makedirs(destination_folder)\n",
    "\n",
    "\n",
    "for curve_id in interesting_curves:\n",
    "    png_file = os.path.join(png_folder, curve_id + '.png')\n",
    "    txt_file = os.path.join(txt_folder, curve_id + '.txt')\n",
    "    \n",
    "    if os.path.exists(png_file) and os.path.exists(txt_file):\n",
    "        shutil.copy(png_file, destination_folder)\n",
    "        shutil.copy(txt_file, destination_folder)\n",
    "\n",
    "print(\"Process completed successfully.\")"
   ]
  },
  {
   "cell_type": "code",
   "execution_count": null,
   "metadata": {},
   "outputs": [],
   "source": [
    "#sector22\n",
    "import os\n",
    "import shutil\n",
    "\n",
    "\n",
    "png_folder = r'C:\\Users\\nic51\\Code_Repos\\Tess\\Data\\Extracted_Tarballs\\PNG_FILES'\n",
    "txt_folder = r'C:\\Users\\nic51\\Code_Repos\\Tess\\Data\\Extracted_Tarballs\\TXT_Files'\n",
    "destination_folder = r'C:\\Users\\nic51\\Code_Repos\\Tess\\Data\\Interesting_Curves\\sector22'\n",
    "\n",
    "\n",
    "naming_pattern = '20'\n",
    "\n",
    "\n",
    "interesting_curves = ['2020dbi','2020ect','2020dnf','2020dns','2020dkk','2020']\n",
    "\n",
    "\n",
    "if not os.path.exists(destination_folder):\n",
    "    os.makedirs(destination_folder)\n",
    "\n",
    "\n",
    "for curve_id in interesting_curves:\n",
    "    png_file = os.path.join(png_folder, curve_id + '.png')\n",
    "    txt_file = os.path.join(txt_folder, curve_id + '.txt')\n",
    "    \n",
    "    if os.path.exists(png_file) and os.path.exists(txt_file):\n",
    "        shutil.copy(png_file, destination_folder)\n",
    "        shutil.copy(txt_file, destination_folder)\n",
    "\n",
    "print(\"Process completed successfully.\")"
   ]
  },
  {
   "cell_type": "code",
   "execution_count": 1,
   "metadata": {},
   "outputs": [
    {
     "name": "stdout",
     "output_type": "stream",
     "text": [
      "Process completed successfully.\n"
     ]
    }
   ],
   "source": [
    "#sector21\n",
    "import os\n",
    "import shutil\n",
    "\n",
    "\n",
    "png_folder = r'C:\\Users\\nic51\\Code_Repos\\Tess\\Data\\Extracted_Tarballs\\PNG_FILES'\n",
    "txt_folder = r'C:\\Users\\nic51\\Code_Repos\\Tess\\Data\\Extracted_Tarballs\\TXT_Files'\n",
    "destination_folder = r'C:\\Users\\nic51\\Code_Repos\\Tess\\Data\\Interesting_Curves\\sector21'\n",
    "\n",
    "\n",
    "naming_pattern = '20'\n",
    "\n",
    "\n",
    "interesting_curves = ['2020bmc','2020bzx','2020bzn','2020bjf','2020bbt','2020bew0','2020cmt','2020bms','2020bxc','2020bjq','2020akw','2020bkm','2020cnr','2020bvy','2020aqc']\n",
    "\n",
    "\n",
    "if not os.path.exists(destination_folder):\n",
    "    os.makedirs(destination_folder)\n",
    "\n",
    "\n",
    "for curve_id in interesting_curves:\n",
    "    png_file = os.path.join(png_folder, curve_id + '.png')\n",
    "    txt_file = os.path.join(txt_folder, curve_id + '.txt')\n",
    "    \n",
    "    if os.path.exists(png_file) and os.path.exists(txt_file):\n",
    "        shutil.copy(png_file, destination_folder)\n",
    "        shutil.copy(txt_file, destination_folder)\n",
    "\n",
    "print(\"Process completed successfully.\")"
   ]
  },
  {
   "cell_type": "code",
   "execution_count": 2,
   "metadata": {},
   "outputs": [
    {
     "name": "stdout",
     "output_type": "stream",
     "text": [
      "Process completed successfully.\n"
     ]
    }
   ],
   "source": [
    "#sector20\n",
    "import os\n",
    "import shutil\n",
    "\n",
    "\n",
    "png_folder = r'C:\\Users\\nic51\\Code_Repos\\Tess\\Data\\Extracted_Tarballs\\PNG_FILES'\n",
    "txt_folder = r'C:\\Users\\nic51\\Code_Repos\\Tess\\Data\\Extracted_Tarballs\\TXT_Files'\n",
    "destination_folder = r'C:\\Users\\nic51\\Code_Repos\\Tess\\Data\\Interesting_Curves\\sector20'\n",
    "\n",
    "\n",
    "naming_pattern = '20'\n",
    "\n",
    "\n",
    "interesting_curves = ['2020bmc','2020aku','2020bg','2020kf','2019yel','2020bbt','2019zej','2020blv','2020bms','2020ats','2020zep','2019zam','2020bjq','2019zsi','2020asn','2020ln','2020di','2020ij','2020th','2020kh']\n",
    "\n",
    "\n",
    "if not os.path.exists(destination_folder):\n",
    "    os.makedirs(destination_folder)\n",
    "\n",
    "\n",
    "for curve_id in interesting_curves:\n",
    "    png_file = os.path.join(png_folder, curve_id + '.png')\n",
    "    txt_file = os.path.join(txt_folder, curve_id + '.txt')\n",
    "    \n",
    "    if os.path.exists(png_file) and os.path.exists(txt_file):\n",
    "        shutil.copy(png_file, destination_folder)\n",
    "        shutil.copy(txt_file, destination_folder)\n",
    "\n",
    "print(\"Process completed successfully.\")"
   ]
  },
  {
   "cell_type": "code",
   "execution_count": 3,
   "metadata": {},
   "outputs": [
    {
     "name": "stdout",
     "output_type": "stream",
     "text": [
      "Process completed successfully.\n"
     ]
    }
   ],
   "source": [
    "#sector19\n",
    "import os\n",
    "import shutil\n",
    "\n",
    "\n",
    "png_folder = r'C:\\Users\\nic51\\Code_Repos\\Tess\\Data\\Extracted_Tarballs\\PNG_FILES'\n",
    "txt_folder = r'C:\\Users\\nic51\\Code_Repos\\Tess\\Data\\Extracted_Tarballs\\TXT_Files'\n",
    "destination_folder = r'C:\\Users\\nic51\\Code_Repos\\Tess\\Data\\Interesting_Curves\\sector19'\n",
    "\n",
    "\n",
    "naming_pattern = '20'\n",
    "\n",
    "\n",
    "interesting_curves = ['2019xtf','2019wve','2019wey','2019wwo','2019xao','2019wvo','2019vzv','2019wxp','2019wbr','2019xdl']\n",
    "\n",
    "\n",
    "if not os.path.exists(destination_folder):\n",
    "    os.makedirs(destination_folder)\n",
    "\n",
    "\n",
    "for curve_id in interesting_curves:\n",
    "    png_file = os.path.join(png_folder, curve_id + '.png')\n",
    "    txt_file = os.path.join(txt_folder, curve_id + '.txt')\n",
    "    \n",
    "    if os.path.exists(png_file) and os.path.exists(txt_file):\n",
    "        shutil.copy(png_file, destination_folder)\n",
    "        shutil.copy(txt_file, destination_folder)\n",
    "\n",
    "print(\"Process completed successfully.\")"
   ]
  },
  {
   "cell_type": "code",
   "execution_count": 1,
   "metadata": {},
   "outputs": [
    {
     "name": "stdout",
     "output_type": "stream",
     "text": [
      "Process completed successfully.\n"
     ]
    }
   ],
   "source": [
    "#sector18\n",
    "import os\n",
    "import shutil\n",
    "\n",
    "\n",
    "png_folder = r'C:\\Users\\nic51\\Code_Repos\\Tess\\Data\\Extracted_Tarballs\\PNG_FILES'\n",
    "txt_folder = r'C:\\Users\\nic51\\Code_Repos\\Tess\\Data\\Extracted_Tarballs\\TXT_Files'\n",
    "destination_folder = r'C:\\Users\\nic51\\Code_Repos\\Tess\\Data\\Interesting_Curves\\sector18'\n",
    "\n",
    "\n",
    "naming_pattern = '20'\n",
    "\n",
    "\n",
    "interesting_curves = ['2019unq','2019vjv','2019uje','2019ulv','2019vda','2019ule','2019vyj','2019val','2019vmc','2019vyk','2019uwj','2019ukb','2019umq','2019vzy']\n",
    "\n",
    "\n",
    "if not os.path.exists(destination_folder):\n",
    "    os.makedirs(destination_folder)\n",
    "\n",
    "\n",
    "for curve_id in interesting_curves:\n",
    "    png_file = os.path.join(png_folder, curve_id + '.png')\n",
    "    txt_file = os.path.join(txt_folder, curve_id + '.txt')\n",
    "    \n",
    "    if os.path.exists(png_file) and os.path.exists(txt_file):\n",
    "        shutil.copy(png_file, destination_folder)\n",
    "        shutil.copy(txt_file, destination_folder)\n",
    "\n",
    "print(\"Process completed successfully.\")"
   ]
  },
  {
   "cell_type": "code",
   "execution_count": null,
   "metadata": {},
   "outputs": [],
   "source": [
    "#sector17\n",
    "import os\n",
    "import shutil\n",
    "\n",
    "\n",
    "png_folder = r'C:\\Users\\nic51\\Code_Repos\\Tess\\Data\\Extracted_Tarballs\\PNG_FILES'\n",
    "txt_folder = r'C:\\Users\\nic51\\Code_Repos\\Tess\\Data\\Extracted_Tarballs\\TXT_Files'\n",
    "destination_folder = r'C:\\Users\\nic51\\Code_Repos\\Tess\\Data\\Interesting_Curves\\sector17'\n",
    "\n",
    "\n",
    "naming_pattern = '20'\n",
    "\n",
    "\n",
    "interesting_curves = ['2019tat','2019sij','2019sld','2019tsm','2019sqo','2019sta','2019src','2019slj','2019tsy','2019sig','2019tgj','2019tng']\n",
    "\n",
    "\n",
    "if not os.path.exists(destination_folder):\n",
    "    os.makedirs(destination_folder)\n",
    "\n",
    "\n",
    "for curve_id in interesting_curves:\n",
    "    png_file = os.path.join(png_folder, curve_id + '.png')\n",
    "    txt_file = os.path.join(txt_folder, curve_id + '.txt')\n",
    "    \n",
    "    if os.path.exists(png_file) and os.path.exists(txt_file):\n",
    "        shutil.copy(png_file, destination_folder)\n",
    "        shutil.copy(txt_file, destination_folder)\n",
    "\n",
    "print(\"Process completed successfully.\")"
   ]
  },
  {
   "cell_type": "code",
   "execution_count": 3,
   "metadata": {},
   "outputs": [
    {
     "name": "stdout",
     "output_type": "stream",
     "text": [
      "Process completed successfully.\n"
     ]
    }
   ],
   "source": [
    "#sector16\n",
    "import os\n",
    "import shutil\n",
    "\n",
    "\n",
    "png_folder = r'C:\\Users\\nic51\\Code_Repos\\Tess\\Data\\Extracted_Tarballs\\PNG_FILES'\n",
    "txt_folder = r'C:\\Users\\nic51\\Code_Repos\\Tess\\Data\\Extracted_Tarballs\\TXT_Files'\n",
    "destination_folder = r'C:\\Users\\nic51\\Code_Repos\\Tess\\Data\\Interesting_Curves\\sector16'\n",
    "\n",
    "\n",
    "naming_pattern = '20'\n",
    "\n",
    "\n",
    "interesting_curves = ['2019rle','2019sbu','2019qqk','2019rvx','2019sic','2019qty','2019sfx','2019sbi','2019rrd','2019rqf','2019rqu','2019rhy','2019qey','2019qwl','2019qgh']\n",
    "\n",
    "\n",
    "if not os.path.exists(destination_folder):\n",
    "    os.makedirs(destination_folder)\n",
    "\n",
    "\n",
    "for curve_id in interesting_curves:\n",
    "    png_file = os.path.join(png_folder, curve_id + '.png')\n",
    "    txt_file = os.path.join(txt_folder, curve_id + '.txt')\n",
    "    \n",
    "    if os.path.exists(png_file) and os.path.exists(txt_file):\n",
    "        shutil.copy(png_file, destination_folder)\n",
    "        shutil.copy(txt_file, destination_folder)\n",
    "\n",
    "print(\"Process completed successfully.\")"
   ]
  },
  {
   "cell_type": "code",
   "execution_count": null,
   "metadata": {},
   "outputs": [],
   "source": []
  }
 ],
 "metadata": {
  "kernelspec": {
   "display_name": "base",
   "language": "python",
   "name": "python3"
  },
  "language_info": {
   "codemirror_mode": {
    "name": "ipython",
    "version": 3
   },
   "file_extension": ".py",
   "mimetype": "text/x-python",
   "name": "python",
   "nbconvert_exporter": "python",
   "pygments_lexer": "ipython3",
   "version": "3.11.7"
  }
 },
 "nbformat": 4,
 "nbformat_minor": 2
}
