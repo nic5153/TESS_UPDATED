{
 "cells": [
  {
   "cell_type": "code",
   "execution_count": 1,
   "metadata": {},
   "outputs": [
    {
     "name": "stdout",
     "output_type": "stream",
     "text": [
      "Process completed successfully.\n"
     ]
    }
   ],
   "source": [
    "#sector66\n",
    "import os\n",
    "import shutil\n",
    "\n",
    "\n",
    "png_folder = r'C:\\Users\\nic51\\Code_Repos\\Tess\\Data\\Extracted_Tarballs\\PNG_FILES'\n",
    "txt_folder = r'C:\\Users\\nic51\\Code_Repos\\Tess\\Data\\Extracted_Tarballs\\TXT_Files'\n",
    "destination_folder = r'C:\\Users\\nic51\\Code_Repos\\Tess\\Data\\Interesting_Curves\\sector66'\n",
    "\n",
    "\n",
    "naming_pattern = '20'\n",
    "\n",
    "\n",
    "interesting_curves = ['2023jub']\n",
    "\n",
    "\n",
    "if not os.path.exists(destination_folder):\n",
    "    os.makedirs(destination_folder)\n",
    "\n",
    "\n",
    "for curve_id in interesting_curves:\n",
    "    png_file = os.path.join(png_folder, curve_id + '.png')\n",
    "    txt_file = os.path.join(txt_folder, curve_id + '.txt')\n",
    "    \n",
    "    if os.path.exists(png_file) and os.path.exists(txt_file):\n",
    "        shutil.copy(png_file, destination_folder)\n",
    "        shutil.copy(txt_file, destination_folder)\n",
    "\n",
    "print(\"Process completed successfully.\")\n",
    "\n"
   ]
  },
  {
   "cell_type": "code",
   "execution_count": 2,
   "metadata": {},
   "outputs": [
    {
     "name": "stdout",
     "output_type": "stream",
     "text": [
      "Process completed successfully.\n"
     ]
    }
   ],
   "source": [
    "#sector65\n",
    "import os\n",
    "import shutil\n",
    "\n",
    "\n",
    "png_folder = r'C:\\Users\\nic51\\Code_Repos\\Tess\\Data\\Extracted_Tarballs\\PNG_FILES'\n",
    "txt_folder = r'C:\\Users\\nic51\\Code_Repos\\Tess\\Data\\Extracted_Tarballs\\TXT_Files'\n",
    "destination_folder = r'C:\\Users\\nic51\\Code_Repos\\Tess\\Data\\Interesting_Curves\\sector65'\n",
    "\n",
    "\n",
    "naming_pattern = '20'\n",
    "\n",
    "\n",
    "interesting_curves = ['2023ixg', '2023iwl']\n",
    "\n",
    "\n",
    "if not os.path.exists(destination_folder):\n",
    "    os.makedirs(destination_folder)\n",
    "\n",
    "\n",
    "for curve_id in interesting_curves:\n",
    "    png_file = os.path.join(png_folder, curve_id + '.png')\n",
    "    txt_file = os.path.join(txt_folder, curve_id + '.txt')\n",
    "    \n",
    "    if os.path.exists(png_file) and os.path.exists(txt_file):\n",
    "        shutil.copy(png_file, destination_folder)\n",
    "        shutil.copy(txt_file, destination_folder)\n",
    "\n",
    "print(\"Process completed successfully.\")"
   ]
  },
  {
   "cell_type": "code",
   "execution_count": 1,
   "metadata": {},
   "outputs": [
    {
     "name": "stdout",
     "output_type": "stream",
     "text": [
      "Process completed successfully.\n"
     ]
    }
   ],
   "source": [
    "#sector64\n",
    "import os\n",
    "import shutil\n",
    "\n",
    "\n",
    "png_folder = r'C:\\Users\\nic51\\Code_Repos\\Tess\\Data\\Extracted_Tarballs\\PNG_FILES'\n",
    "txt_folder = r'C:\\Users\\nic51\\Code_Repos\\Tess\\Data\\Extracted_Tarballs\\TXT_Files'\n",
    "destination_folder = r'C:\\Users\\nic51\\Code_Repos\\Tess\\Data\\Interesting_Curves\\sector64'\n",
    "\n",
    "\n",
    "naming_pattern = '20'\n",
    "\n",
    "\n",
    "interesting_curves = ['2023gdu','2023hnd','2023iua','2023htj','2023hqh','2023hts','2023jsy','2023hng','2023gwh','2023htk','2023fpc','2023hdy','2023hua','2023fpe','2023hlr']\n",
    "\n",
    "\n",
    "if not os.path.exists(destination_folder):\n",
    "    os.makedirs(destination_folder)\n",
    "\n",
    "\n",
    "for curve_id in interesting_curves:\n",
    "    png_file = os.path.join(png_folder, curve_id + '.png')\n",
    "    txt_file = os.path.join(txt_folder, curve_id + '.txt')\n",
    "    \n",
    "    if os.path.exists(png_file) and os.path.exists(txt_file):\n",
    "        shutil.copy(png_file, destination_folder)\n",
    "        shutil.copy(txt_file, destination_folder)\n",
    "\n",
    "print(\"Process completed successfully.\")"
   ]
  },
  {
   "cell_type": "code",
   "execution_count": null,
   "metadata": {},
   "outputs": [],
   "source": [
    "#sector63\n",
    "import os\n",
    "import shutil\n",
    "\n",
    "\n",
    "png_folder = r'C:\\Users\\nic51\\Code_Repos\\Tess\\Data\\Extracted_Tarballs\\PNG_FILES'\n",
    "txt_folder = r'C:\\Users\\nic51\\Code_Repos\\Tess\\Data\\Extracted_Tarballs\\TXT_Files'\n",
    "destination_folder = r'C:\\Users\\nic51\\Code_Repos\\Tess\\Data\\Interesting_Curves\\sector6'\n",
    "\n",
    "\n",
    "naming_pattern = '20'\n",
    "\n",
    "\n",
    "interesting_curves = []\n",
    "\n",
    "\n",
    "if not os.path.exists(destination_folder):\n",
    "    os.makedirs(destination_folder)\n",
    "\n",
    "\n",
    "for curve_id in interesting_curves:\n",
    "    png_file = os.path.join(png_folder, curve_id + '.png')\n",
    "    txt_file = os.path.join(txt_folder, curve_id + '.txt')\n",
    "    \n",
    "    if os.path.exists(png_file) and os.path.exists(txt_file):\n",
    "        shutil.copy(png_file, destination_folder)\n",
    "        shutil.copy(txt_file, destination_folder)\n",
    "\n",
    "print(\"Process completed successfully.\")"
   ]
  },
  {
   "cell_type": "code",
   "execution_count": 3,
   "metadata": {},
   "outputs": [
    {
     "name": "stdout",
     "output_type": "stream",
     "text": [
      "Process completed successfully.\n"
     ]
    }
   ],
   "source": [
    "#sector01(revisit)\n",
    "import os\n",
    "import shutil\n",
    "\n",
    "\n",
    "png_folder = r'C:\\Users\\nic51\\Code_Repos\\Tess\\Data\\Extracted_Tarballs\\PNG_FILES'\n",
    "txt_folder = r'C:\\Users\\nic51\\Code_Repos\\Tess\\Data\\Extracted_Tarballs\\TXT_Files'\n",
    "destination_folder = r'C:\\Users\\nic51\\Code_Repos\\Tess\\Data\\Interesting_Curves\\sector01'\n",
    "\n",
    "\n",
    "naming_pattern = '20'\n",
    "\n",
    "\n",
    "interesting_curves = ['2018eny']\n",
    "\n",
    "\n",
    "if not os.path.exists(destination_folder):\n",
    "    os.makedirs(destination_folder)\n",
    "\n",
    "\n",
    "for curve_id in interesting_curves:\n",
    "    png_file = os.path.join(png_folder, curve_id + '.png')\n",
    "    txt_file = os.path.join(txt_folder, curve_id + '.txt')\n",
    "    \n",
    "    if os.path.exists(png_file) and os.path.exists(txt_file):\n",
    "        shutil.copy(png_file, destination_folder)\n",
    "        shutil.copy(txt_file, destination_folder)\n",
    "\n",
    "print(\"Process completed successfully.\")"
   ]
  },
  {
   "cell_type": "code",
   "execution_count": 4,
   "metadata": {},
   "outputs": [
    {
     "name": "stdout",
     "output_type": "stream",
     "text": [
      "Process completed successfully.\n"
     ]
    }
   ],
   "source": [
    "#sector05(revisit)\n",
    "import os\n",
    "import shutil\n",
    "\n",
    "\n",
    "png_folder = r'C:\\Users\\nic51\\Code_Repos\\Tess\\Data\\Extracted_Tarballs\\PNG_FILES'\n",
    "txt_folder = r'C:\\Users\\nic51\\Code_Repos\\Tess\\Data\\Extracted_Tarballs\\TXT_Files'\n",
    "destination_folder = r'C:\\Users\\nic51\\Code_Repos\\Tess\\Data\\Interesting_Curves\\sector05'\n",
    "\n",
    "\n",
    "naming_pattern = '20'\n",
    "\n",
    "\n",
    "interesting_curves = ['2018kbi','2018jms','2018jgq']\n",
    "\n",
    "\n",
    "if not os.path.exists(destination_folder):\n",
    "    os.makedirs(destination_folder)\n",
    "\n",
    "\n",
    "for curve_id in interesting_curves:\n",
    "    png_file = os.path.join(png_folder, curve_id + '.png')\n",
    "    txt_file = os.path.join(txt_folder, curve_id + '.txt')\n",
    "    \n",
    "    if os.path.exists(png_file) and os.path.exists(txt_file):\n",
    "        shutil.copy(png_file, destination_folder)\n",
    "        shutil.copy(txt_file, destination_folder)\n",
    "\n",
    "print(\"Process completed successfully.\")"
   ]
  },
  {
   "cell_type": "code",
   "execution_count": 5,
   "metadata": {},
   "outputs": [
    {
     "name": "stdout",
     "output_type": "stream",
     "text": [
      "Process completed successfully.\n"
     ]
    }
   ],
   "source": [
    "#sector06(revisit)\n",
    "import os\n",
    "import shutil\n",
    "\n",
    "\n",
    "png_folder = r'C:\\Users\\nic51\\Code_Repos\\Tess\\Data\\Extracted_Tarballs\\PNG_FILES'\n",
    "txt_folder = r'C:\\Users\\nic51\\Code_Repos\\Tess\\Data\\Extracted_Tarballs\\TXT_Files'\n",
    "destination_folder = r'C:\\Users\\nic51\\Code_Repos\\Tess\\Data\\Interesting_Curves\\sector06'\n",
    "\n",
    "\n",
    "naming_pattern = '20'\n",
    "\n",
    "\n",
    "interesting_curves = ['2018lad','2019iy']\n",
    "\n",
    "\n",
    "if not os.path.exists(destination_folder):\n",
    "    os.makedirs(destination_folder)\n",
    "\n",
    "\n",
    "for curve_id in interesting_curves:\n",
    "    png_file = os.path.join(png_folder, curve_id + '.png')\n",
    "    txt_file = os.path.join(txt_folder, curve_id + '.txt')\n",
    "    \n",
    "    if os.path.exists(png_file) and os.path.exists(txt_file):\n",
    "        shutil.copy(png_file, destination_folder)\n",
    "        shutil.copy(txt_file, destination_folder)\n",
    "\n",
    "print(\"Process completed successfully.\")"
   ]
  },
  {
   "cell_type": "code",
   "execution_count": 6,
   "metadata": {},
   "outputs": [
    {
     "name": "stdout",
     "output_type": "stream",
     "text": [
      "Process completed successfully.\n"
     ]
    }
   ],
   "source": [
    "#sector07(revisit)\n",
    "import os\n",
    "import shutil\n",
    "\n",
    "\n",
    "png_folder = r'C:\\Users\\nic51\\Code_Repos\\Tess\\Data\\Extracted_Tarballs\\PNG_FILES'\n",
    "txt_folder = r'C:\\Users\\nic51\\Code_Repos\\Tess\\Data\\Extracted_Tarballs\\TXT_Files'\n",
    "destination_folder = r'C:\\Users\\nic51\\Code_Repos\\Tess\\Data\\Interesting_Curves\\sector07'\n",
    "\n",
    "\n",
    "naming_pattern = '20'\n",
    "\n",
    "\n",
    "interesting_curves = ['2019ahk','2019aqu']\n",
    "\n",
    "\n",
    "if not os.path.exists(destination_folder):\n",
    "    os.makedirs(destination_folder)\n",
    "\n",
    "\n",
    "for curve_id in interesting_curves:\n",
    "    png_file = os.path.join(png_folder, curve_id + '.png')\n",
    "    txt_file = os.path.join(txt_folder, curve_id + '.txt')\n",
    "    \n",
    "    if os.path.exists(png_file) and os.path.exists(txt_file):\n",
    "        shutil.copy(png_file, destination_folder)\n",
    "        shutil.copy(txt_file, destination_folder)\n",
    "\n",
    "print(\"Process completed successfully.\")"
   ]
  },
  {
   "cell_type": "code",
   "execution_count": 7,
   "metadata": {},
   "outputs": [
    {
     "name": "stdout",
     "output_type": "stream",
     "text": [
      "Process completed successfully.\n"
     ]
    }
   ],
   "source": [
    "#sector10(revisit)\n",
    "import os\n",
    "import shutil\n",
    "\n",
    "\n",
    "png_folder = r'C:\\Users\\nic51\\Code_Repos\\Tess\\Data\\Extracted_Tarballs\\PNG_FILES'\n",
    "txt_folder = r'C:\\Users\\nic51\\Code_Repos\\Tess\\Data\\Extracted_Tarballs\\TXT_Files'\n",
    "destination_folder = r'C:\\Users\\nic51\\Code_Repos\\Tess\\Data\\Interesting_Curves\\sector10'\n",
    "\n",
    "\n",
    "naming_pattern = '20'\n",
    "\n",
    "\n",
    "interesting_curves = ['2019cou','2019cot']\n",
    "\n",
    "\n",
    "if not os.path.exists(destination_folder):\n",
    "    os.makedirs(destination_folder)\n",
    "\n",
    "\n",
    "for curve_id in interesting_curves:\n",
    "    png_file = os.path.join(png_folder, curve_id + '.png')\n",
    "    txt_file = os.path.join(txt_folder, curve_id + '.txt')\n",
    "    \n",
    "    if os.path.exists(png_file) and os.path.exists(txt_file):\n",
    "        shutil.copy(png_file, destination_folder)\n",
    "        shutil.copy(txt_file, destination_folder)\n",
    "\n",
    "print(\"Process completed successfully.\")"
   ]
  },
  {
   "cell_type": "code",
   "execution_count": null,
   "metadata": {},
   "outputs": [],
   "source": []
  }
 ],
 "metadata": {
  "kernelspec": {
   "display_name": "base",
   "language": "python",
   "name": "python3"
  },
  "language_info": {
   "codemirror_mode": {
    "name": "ipython",
    "version": 3
   },
   "file_extension": ".py",
   "mimetype": "text/x-python",
   "name": "python",
   "nbconvert_exporter": "python",
   "pygments_lexer": "ipython3",
   "version": "3.11.7"
  }
 },
 "nbformat": 4,
 "nbformat_minor": 2
}
